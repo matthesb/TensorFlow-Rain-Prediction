{
  "nbformat": 4,
  "nbformat_minor": 0,
  "metadata": {
    "colab": {
      "name": "Ambient Weather.ipynb",
      "provenance": [],
      "collapsed_sections": []
    },
    "kernelspec": {
      "name": "python3",
      "display_name": "Python 3"
    },
    "accelerator": "GPU"
  },
  "cells": [
    {
      "cell_type": "code",
      "metadata": {
        "id": "Bi65KbesZf1k",
        "colab_type": "code",
        "outputId": "448bde32-5671-4931-f649-9ee3c718787a",
        "colab": {
          "base_uri": "https://localhost:8080/",
          "height": 34
        }
      },
      "source": [
        "# Install TensorFlow \n",
        "try:\n",
        "  # %tensorflow_version command only exists in colab\n",
        "  %tensorflow_version 2.x\n",
        "except Exception:\n",
        "  pass"
      ],
      "execution_count": 0,
      "outputs": [
        {
          "output_type": "stream",
          "text": [
            "TensorFlow 2.x selected.\n"
          ],
          "name": "stdout"
        }
      ]
    },
    {
      "cell_type": "code",
      "metadata": {
        "id": "JYRTKW_uaHFZ",
        "colab_type": "code",
        "colab": {}
      },
      "source": [
        "#import libraries\n",
        "import tensorflow as tf\n",
        "import numpy as np\n",
        "import matplotlib.pyplot as plt\n"
      ],
      "execution_count": 0,
      "outputs": []
    },
    {
      "cell_type": "code",
      "metadata": {
        "id": "Z-8wL5AHbJrE",
        "colab_type": "code",
        "outputId": "83b1449f-5039-40b2-c9a8-b86d1ccf6384",
        "colab": {
          "base_uri": "https://localhost:8080/",
          "height": 34
        }
      },
      "source": [
        "#check tensorflow version\n",
        "print(\"TensorFlow version: \", tf.__version__)"
      ],
      "execution_count": 0,
      "outputs": [
        {
          "output_type": "stream",
          "text": [
            "TensorFlow version:  2.1.0\n"
          ],
          "name": "stdout"
        }
      ]
    },
    {
      "cell_type": "markdown",
      "metadata": {
        "id": "dqCOfzo_CWGj",
        "colab_type": "text"
      },
      "source": [
        "#Problem Statement\n",
        "Using historical data can I predict rainfall based on certain weather conditions\n"
      ]
    },
    {
      "cell_type": "markdown",
      "metadata": {
        "id": "TYfWQXAvCrQk",
        "colab_type": "text"
      },
      "source": [
        "#Get Data"
      ]
    },
    {
      "cell_type": "code",
      "metadata": {
        "colab_type": "code",
        "id": "OX1zdG0tEAzS",
        "outputId": "a11ceb08-7702-4751-9f2f-c4bc5ce8f6ca",
        "colab": {
          "resources": {
            "http://localhost:8080/nbextensions/google.colab/files.js": {
              "data": "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",
              "ok": true,
              "headers": [
                [
                  "content-type",
                  "application/javascript"
                ]
              ],
              "status": 200,
              "status_text": ""
            }
          },
          "base_uri": "https://localhost:8080/",
          "height": 91
        }
      },
      "source": [
        "# You need to upload the file, AmesHousing-05-2001.csv provided with this course\n",
        "from google.colab import files\n",
        "\n",
        "# only load the single file\n",
        "uploaded = files.upload()\n",
        "# csv_housefile contains the name of the first, and only file uploaded\n",
        "csv_hwd = next(iter(uploaded.keys()))\n",
        "\n",
        "print('User uploaded file \"{name}\" with length {length} bytes'.format(\n",
        "      name=csv_hwd, length=len(uploaded[csv_hwd])))\n"
      ],
      "execution_count": 0,
      "outputs": [
        {
          "output_type": "display_data",
          "data": {
            "text/html": [
              "\n",
              "     <input type=\"file\" id=\"files-188c8a28-71c9-4d2b-b9cb-7ef9cc9e37a6\" name=\"files[]\" multiple disabled />\n",
              "     <output id=\"result-188c8a28-71c9-4d2b-b9cb-7ef9cc9e37a6\">\n",
              "      Upload widget is only available when the cell has been executed in the\n",
              "      current browser session. Please rerun this cell to enable.\n",
              "      </output>\n",
              "      <script src=\"/nbextensions/google.colab/files.js\"></script> "
            ],
            "text/plain": [
              "<IPython.core.display.HTML object>"
            ]
          },
          "metadata": {
            "tags": []
          }
        },
        {
          "output_type": "stream",
          "text": [
            "Saving avg-ambient-weather-nozero-20190209-20191230.csv to avg-ambient-weather-nozero-20190209-20191230.csv\n",
            "User uploaded file \"avg-ambient-weather-nozero-20190209-20191230.csv\" with length 21910 bytes\n"
          ],
          "name": "stdout"
        }
      ]
    },
    {
      "cell_type": "code",
      "metadata": {
        "id": "VmGM0P__ThrO",
        "colab_type": "code",
        "colab": {}
      },
      "source": [
        "import pandas as pd"
      ],
      "execution_count": 0,
      "outputs": []
    },
    {
      "cell_type": "code",
      "metadata": {
        "id": "Gqpgpo37Dd0R",
        "colab_type": "code",
        "colab": {}
      },
      "source": [
        "df_hwd = pd.read_csv(csv_hwd)"
      ],
      "execution_count": 0,
      "outputs": []
    },
    {
      "cell_type": "code",
      "metadata": {
        "id": "wYxIFiruDk-d",
        "colab_type": "code",
        "outputId": "e1f522e2-da36-4766-9238-c85f444de849",
        "colab": {
          "base_uri": "https://localhost:8080/",
          "height": 266
        }
      },
      "source": [
        "# Visualize the dataset\n",
        " \n",
        "# turn on option to display all columns, otherwise some columns may be hidden\n",
        "pd.set_option('display.max_columns', None)  \n",
        "# print the column names and first 5 rows of data\n",
        "df_hwd.head(5)"
      ],
      "execution_count": 0,
      "outputs": [
        {
          "output_type": "execute_result",
          "data": {
            "text/html": [
              "<div>\n",
              "<style scoped>\n",
              "    .dataframe tbody tr th:only-of-type {\n",
              "        vertical-align: middle;\n",
              "    }\n",
              "\n",
              "    .dataframe tbody tr th {\n",
              "        vertical-align: top;\n",
              "    }\n",
              "\n",
              "    .dataframe thead th {\n",
              "        text-align: right;\n",
              "    }\n",
              "</style>\n",
              "<table border=\"1\" class=\"dataframe\">\n",
              "  <thead>\n",
              "    <tr style=\"text-align: right;\">\n",
              "      <th></th>\n",
              "      <th>Tier</th>\n",
              "      <th>Date</th>\n",
              "      <th>Outdoor Temperature</th>\n",
              "      <th>Feels Like</th>\n",
              "      <th>Dew Point</th>\n",
              "      <th>Wind Speed</th>\n",
              "      <th>Wind Gust</th>\n",
              "      <th>Max Daily Gust</th>\n",
              "      <th>Wind Direction</th>\n",
              "      <th>Hourly Rain</th>\n",
              "      <th>Daily Rain</th>\n",
              "      <th>Weekly Rain</th>\n",
              "      <th>Monthly Rain</th>\n",
              "      <th>Event Rain</th>\n",
              "      <th>Total Rain</th>\n",
              "      <th>Relative Pressure</th>\n",
              "      <th>Outdoor Humidity</th>\n",
              "      <th>Ultra-Violet Radiation Index</th>\n",
              "      <th>Solar Radiation</th>\n",
              "      <th>Indoor Temperature</th>\n",
              "      <th>Indoor Humidity</th>\n",
              "    </tr>\n",
              "  </thead>\n",
              "  <tbody>\n",
              "    <tr>\n",
              "      <th>0</th>\n",
              "      <td>Average</td>\n",
              "      <td>43829</td>\n",
              "      <td>63.997054</td>\n",
              "      <td>63.800935</td>\n",
              "      <td>50.635972</td>\n",
              "      <td>1.248601</td>\n",
              "      <td>1.883800</td>\n",
              "      <td>9.704713</td>\n",
              "      <td>SSW</td>\n",
              "      <td>0.000515</td>\n",
              "      <td>0.008601</td>\n",
              "      <td>0.266870</td>\n",
              "      <td>4.657452</td>\n",
              "      <td>0.197364</td>\n",
              "      <td>60.748601</td>\n",
              "      <td>29.786605</td>\n",
              "      <td>65.5</td>\n",
              "      <td>0.3</td>\n",
              "      <td>46.455596</td>\n",
              "      <td>74.667084</td>\n",
              "      <td>44.9</td>\n",
              "    </tr>\n",
              "    <tr>\n",
              "      <th>1</th>\n",
              "      <td>Average</td>\n",
              "      <td>43828</td>\n",
              "      <td>61.998175</td>\n",
              "      <td>61.998175</td>\n",
              "      <td>61.507489</td>\n",
              "      <td>0.386058</td>\n",
              "      <td>0.639562</td>\n",
              "      <td>3.637737</td>\n",
              "      <td>SSW</td>\n",
              "      <td>0.011307</td>\n",
              "      <td>0.184664</td>\n",
              "      <td>0.184664</td>\n",
              "      <td>4.576993</td>\n",
              "      <td>0.184679</td>\n",
              "      <td>60.654679</td>\n",
              "      <td>30.052927</td>\n",
              "      <td>98.3</td>\n",
              "      <td>0.1</td>\n",
              "      <td>29.904124</td>\n",
              "      <td>74.685403</td>\n",
              "      <td>47.9</td>\n",
              "    </tr>\n",
              "    <tr>\n",
              "      <th>2</th>\n",
              "      <td>Average</td>\n",
              "      <td>43822</td>\n",
              "      <td>44.492827</td>\n",
              "      <td>44.486087</td>\n",
              "      <td>44.193594</td>\n",
              "      <td>0.602273</td>\n",
              "      <td>1.042472</td>\n",
              "      <td>6.497017</td>\n",
              "      <td>SSE</td>\n",
              "      <td>0.029915</td>\n",
              "      <td>0.496939</td>\n",
              "      <td>0.755433</td>\n",
              "      <td>4.221172</td>\n",
              "      <td>0.768821</td>\n",
              "      <td>60.268821</td>\n",
              "      <td>30.116001</td>\n",
              "      <td>98.9</td>\n",
              "      <td>0.0</td>\n",
              "      <td>13.358501</td>\n",
              "      <td>75.517685</td>\n",
              "      <td>30.6</td>\n",
              "    </tr>\n",
              "    <tr>\n",
              "      <th>3</th>\n",
              "      <td>Average</td>\n",
              "      <td>43821</td>\n",
              "      <td>39.323725</td>\n",
              "      <td>39.323725</td>\n",
              "      <td>35.430262</td>\n",
              "      <td>0.022380</td>\n",
              "      <td>0.064660</td>\n",
              "      <td>1.160765</td>\n",
              "      <td>SSE</td>\n",
              "      <td>0.010574</td>\n",
              "      <td>0.024263</td>\n",
              "      <td>0.024263</td>\n",
              "      <td>3.493003</td>\n",
              "      <td>0.024263</td>\n",
              "      <td>59.524263</td>\n",
              "      <td>30.385099</td>\n",
              "      <td>87.2</td>\n",
              "      <td>0.1</td>\n",
              "      <td>23.544844</td>\n",
              "      <td>75.680595</td>\n",
              "      <td>27.2</td>\n",
              "    </tr>\n",
              "    <tr>\n",
              "      <th>4</th>\n",
              "      <td>Average</td>\n",
              "      <td>43816</td>\n",
              "      <td>58.151414</td>\n",
              "      <td>58.146577</td>\n",
              "      <td>55.830446</td>\n",
              "      <td>0.721994</td>\n",
              "      <td>1.149717</td>\n",
              "      <td>6.582603</td>\n",
              "      <td>SSW</td>\n",
              "      <td>0.021888</td>\n",
              "      <td>0.344272</td>\n",
              "      <td>0.344272</td>\n",
              "      <td>3.305339</td>\n",
              "      <td>0.344272</td>\n",
              "      <td>59.314272</td>\n",
              "      <td>29.863004</td>\n",
              "      <td>92.3</td>\n",
              "      <td>0.0</td>\n",
              "      <td>13.762553</td>\n",
              "      <td>75.153597</td>\n",
              "      <td>40.6</td>\n",
              "    </tr>\n",
              "  </tbody>\n",
              "</table>\n",
              "</div>"
            ],
            "text/plain": [
              "      Tier   Date  Outdoor Temperature  Feels Like  Dew Point  Wind Speed  \\\n",
              "0  Average  43829            63.997054   63.800935  50.635972    1.248601   \n",
              "1  Average  43828            61.998175   61.998175  61.507489    0.386058   \n",
              "2  Average  43822            44.492827   44.486087  44.193594    0.602273   \n",
              "3  Average  43821            39.323725   39.323725  35.430262    0.022380   \n",
              "4  Average  43816            58.151414   58.146577  55.830446    0.721994   \n",
              "\n",
              "   Wind Gust  Max Daily Gust Wind Direction  Hourly Rain  Daily Rain  \\\n",
              "0   1.883800        9.704713            SSW     0.000515    0.008601   \n",
              "1   0.639562        3.637737            SSW     0.011307    0.184664   \n",
              "2   1.042472        6.497017            SSE     0.029915    0.496939   \n",
              "3   0.064660        1.160765            SSE     0.010574    0.024263   \n",
              "4   1.149717        6.582603            SSW     0.021888    0.344272   \n",
              "\n",
              "   Weekly Rain  Monthly Rain  Event Rain  Total Rain  Relative Pressure  \\\n",
              "0     0.266870      4.657452    0.197364   60.748601          29.786605   \n",
              "1     0.184664      4.576993    0.184679   60.654679          30.052927   \n",
              "2     0.755433      4.221172    0.768821   60.268821          30.116001   \n",
              "3     0.024263      3.493003    0.024263   59.524263          30.385099   \n",
              "4     0.344272      3.305339    0.344272   59.314272          29.863004   \n",
              "\n",
              "   Outdoor Humidity  Ultra-Violet Radiation Index  Solar Radiation  \\\n",
              "0              65.5                           0.3        46.455596   \n",
              "1              98.3                           0.1        29.904124   \n",
              "2              98.9                           0.0        13.358501   \n",
              "3              87.2                           0.1        23.544844   \n",
              "4              92.3                           0.0        13.762553   \n",
              "\n",
              "   Indoor Temperature  Indoor Humidity  \n",
              "0           74.667084             44.9  \n",
              "1           74.685403             47.9  \n",
              "2           75.517685             30.6  \n",
              "3           75.680595             27.2  \n",
              "4           75.153597             40.6  "
            ]
          },
          "metadata": {
            "tags": []
          },
          "execution_count": 7
        }
      ]
    },
    {
      "cell_type": "code",
      "metadata": {
        "id": "9gc0jzZYvLsl",
        "colab_type": "code",
        "outputId": "5413ba4f-b1ad-435c-e19b-00068423f1df",
        "colab": {
          "base_uri": "https://localhost:8080/",
          "height": 34
        }
      },
      "source": [
        " df_hwd[['Dew Point', 'Outdoor Temperature', 'Relative Pressure', 'Daily Rain']].isnull().values.any()"
      ],
      "execution_count": 0,
      "outputs": [
        {
          "output_type": "execute_result",
          "data": {
            "text/plain": [
              "False"
            ]
          },
          "metadata": {
            "tags": []
          },
          "execution_count": 8
        }
      ]
    },
    {
      "cell_type": "code",
      "metadata": {
        "id": "E7hTDDs6qw0R",
        "colab_type": "code",
        "colab": {}
      },
      "source": [
        "# This function visualizes our data and optionally a learned line\n",
        "def visualize_data(x_vals, y_vals,\n",
        "                   addn_x_vals=None, addn_y_vals=None, add_addn_reg_line=False):\n",
        "  \n",
        "  f, ax = plt.subplots(figsize=(8,8))\n",
        "  plt.plot(x_vals, y_vals, 'ro')   # red dot for each data point\n",
        "  # Optionally plot another set of data points in a different color and symbol\n",
        "  if (addn_x_vals is not None):\n",
        "    plt.plot(addn_x_vals, addn_y_vals, 'g^') # green triangles for additional data points\n",
        "    # Optionally, plot a regression line.\n",
        "    if (add_addn_reg_line):\n",
        "      x_min_index = addn_x_vals.argmin()\n",
        "      x_max_index = addn_x_vals.argmax()\n",
        "      print(x_min_index,[addn_x_vals[x_min_index],addn_y_vals[x_min_index]] ) \n",
        "      print(x_max_index,[addn_x_vals[x_max_index],addn_y_vals[x_max_index]] ) \n",
        "      plt.plot([addn_x_vals[x_min_index],addn_y_vals[x_min_index]], \n",
        "               [addn_x_vals[x_max_index],addn_y_vals[x_max_index]], \n",
        "               'b-')  # draw a blue regression line\n",
        "    \n",
        "  plt.tick_params(axis='both', which='major', labelsize=14)\n",
        "  \n",
        "  plt.show()  # now plot the line showing the data and the optional line"
      ],
      "execution_count": 0,
      "outputs": []
    },
    {
      "cell_type": "code",
      "metadata": {
        "id": "9PyYXnSZ9v9R",
        "colab_type": "code",
        "outputId": "f85c6f11-a0d4-4d21-d8bd-1e9040c4dfde",
        "colab": {
          "base_uri": "https://localhost:8080/",
          "height": 487
        }
      },
      "source": [
        "# Plot Relative Pressure vs Daily Rain\n",
        "visualize_data(df_hwd['Relative Pressure'], df_hwd['Daily Rain'])\n",
        "\n"
      ],
      "execution_count": 0,
      "outputs": [
        {
          "output_type": "display_data",
          "data": {
            "image/png": "[encoded data removed]",
            "text/plain": [
              "<Figure size 576x576 with 1 Axes>"
            ]
          },
          "metadata": {
            "tags": []
          }
        }
      ]
    },
    {
      "cell_type": "code",
      "metadata": {
        "id": "5n-zGuMN6np6",
        "colab_type": "code",
        "colab": {}
      },
      "source": [
        "# Scale data so SF and Sale Price are on similar scales with values \n",
        "#  from 0.0 to 1.0\n",
        "\n",
        "from sklearn.preprocessing import MinMaxScaler\n",
        "\n",
        "rp_scaler = MinMaxScaler()\n",
        "rp_scaled = rp_scaler.fit_transform(df_hwd['Relative Pressure'].values.reshape(-1,1).astype(np.float64))\n",
        "    \n",
        "rain_scaler = MinMaxScaler()\n",
        "rain_scaled = rain_scaler.fit_transform(df_hwd['Daily Rain'].values.reshape(-1,1).astype(np.float64))"
      ],
      "execution_count": 0,
      "outputs": []
    },
    {
      "cell_type": "code",
      "metadata": {
        "id": "SgcsUBmf_guO",
        "colab_type": "code",
        "colab": {}
      },
      "source": [
        "# Create model using the TensorFlow Keras library\n",
        "model = tf.keras.Sequential()\n",
        "model.add(tf.keras.layers.Dense(units=1, activation='linear', input_shape=(1,),\n",
        "                                kernel_initializer='random_uniform',\n",
        "                                bias_initializer='zeros'))\n"
      ],
      "execution_count": 0,
      "outputs": []
    },
    {
      "cell_type": "code",
      "metadata": {
        "id": "KMYudNJpY9dY",
        "colab_type": "code",
        "colab": {}
      },
      "source": [
        "# Compile model\n",
        "optimizer = \"sgd\"\n",
        "model.compile(loss='mean_squared_error', optimizer=optimizer )\n"
      ],
      "execution_count": 0,
      "outputs": []
    },
    {
      "cell_type": "code",
      "metadata": {
        "id": "EeE7HxU_l0MP",
        "colab_type": "code",
        "colab": {}
      },
      "source": [
        "# Split the dataset into training dataset - 70%, Testing dataset - 30%\n",
        "# we do this using the sklearn train_test_split method\n",
        "from sklearn.model_selection import train_test_split\n",
        "\n",
        "rp_train_scaled, rp_test_scaled, rain_train_scaled, rain_test_scaled = train_test_split(rp_scaled, \n",
        "                                                    rain_scaled, \n",
        "                                                    test_size=0.3, random_state=42)"
      ],
      "execution_count": 0,
      "outputs": []
    },
    {
      "cell_type": "code",
      "metadata": {
        "id": "HOCRKtgMnSLk",
        "colab_type": "code",
        "outputId": "53fe0d18-4586-484f-f380-f37d21fbd1a0",
        "colab": {
          "base_uri": "https://localhost:8080/",
          "height": 302
        }
      },
      "source": [
        "\n",
        "# Train model using data\n",
        "initial_epochs = 8\n",
        "batch_size = 10\n",
        "train_hist = model.fit(rp_train_scaled, rain_train_scaled, \n",
        "                       epochs=initial_epochs, batch_size=batch_size, verbose=1)\n",
        "\n",
        "# Is 8 epochs enough??? Maybe/Maybe not"
      ],
      "execution_count": 0,
      "outputs": [
        {
          "output_type": "stream",
          "text": [
            "Train on 74 samples\n",
            "Epoch 1/8\n",
            "74/74 [==============================] - 2s 26ms/sample - loss: 0.0780\n",
            "Epoch 2/8\n",
            "74/74 [==============================] - 0s 276us/sample - loss: 0.0691\n",
            "Epoch 3/8\n",
            "74/74 [==============================] - 0s 279us/sample - loss: 0.0626\n",
            "Epoch 4/8\n",
            "74/74 [==============================] - 0s 259us/sample - loss: 0.0589\n",
            "Epoch 5/8\n",
            "74/74 [==============================] - 0s 245us/sample - loss: 0.0562\n",
            "Epoch 6/8\n",
            "74/74 [==============================] - 0s 263us/sample - loss: 0.0545\n",
            "Epoch 7/8\n",
            "74/74 [==============================] - 0s 269us/sample - loss: 0.0534\n",
            "Epoch 8/8\n",
            "74/74 [==============================] - 0s 256us/sample - loss: 0.0526\n"
          ],
          "name": "stdout"
        }
      ]
    },
    {
      "cell_type": "code",
      "metadata": {
        "id": "1KPJ8zLCJYw1",
        "colab_type": "code",
        "outputId": "7667ac69-5c41-4b09-fcc7-ac474de4be98",
        "colab": {
          "base_uri": "https://localhost:8080/",
          "height": 487
        }
      },
      "source": [
        "\n",
        "#  predict the price with our trained model\n",
        "rain_predicted_scaled =  model.predict(rp_train_scaled)\n",
        "visualize_data(rp_scaler.inverse_transform(rp_train_scaled), rain_scaler.inverse_transform(rain_train_scaled),\n",
        "               rp_scaler.inverse_transform(rp_train_scaled), rain_scaler.inverse_transform(rain_predicted_scaled),\n",
        "               add_addn_reg_line=False)\n",
        "               \n",
        "# If line looks bad, what do we do?"
      ],
      "execution_count": 0,
      "outputs": [
        {
          "output_type": "display_data",
          "data": {
            "image/png": "[encoded data removed]",
            "text/plain": [
              "<Figure size 576x576 with 1 Axes>"
            ]
          },
          "metadata": {
            "tags": []
          }
        }
      ]
    },
    {
      "cell_type": "code",
      "metadata": {
        "id": "bVoztVaenFsr",
        "colab_type": "code",
        "outputId": "5171df7d-d9e0-4129-d93d-fd98e7c4cd24",
        "colab": {
          "base_uri": "https://localhost:8080/",
          "height": 312
        }
      },
      "source": [
        "def plot_loss(hist):\n",
        "  # plot the loss\n",
        "  plt.title('Loss History')\n",
        "  plt.plot(hist.history['loss'])\n",
        "  plt.ylabel('loss')\n",
        "  plt.xlabel('epoch')\n",
        "  plt.show()\n",
        "\n",
        "print(type(train_hist))\n",
        "plot_loss(train_hist)"
      ],
      "execution_count": 0,
      "outputs": [
        {
          "output_type": "stream",
          "text": [
            "<class 'tensorflow.python.keras.callbacks.History'>\n"
          ],
          "name": "stdout"
        },
        {
          "output_type": "display_data",
          "data": {
            "image/png": "[encoded data removed]",
            "text/plain": [
              "<Figure size 432x288 with 1 Axes>"
            ]
          },
          "metadata": {
            "tags": []
          }
        }
      ]
    },
    {
      "cell_type": "code",
      "metadata": {
        "id": "h2azhJj0hd7t",
        "colab_type": "code",
        "colab": {}
      },
      "source": [
        "# Train model using data.  This time, train for additional epochs\n",
        "# Also capture the changes over time in the history variable, train_hist_addn so we \n",
        "#   can see if loss is converging\n",
        "addn_epochs = 1200\n",
        "train_hist_addn =model.fit(rp_train_scaled, rain_train_scaled,  \n",
        "                     epochs=addn_epochs, verbose=0)"
      ],
      "execution_count": 0,
      "outputs": []
    },
    {
      "cell_type": "code",
      "metadata": {
        "id": "OEXR-tQpjmJw",
        "colab_type": "code",
        "outputId": "e59fe203-354c-4eb2-d7b5-65973a6630a6",
        "colab": {
          "base_uri": "https://localhost:8080/",
          "height": 295
        }
      },
      "source": [
        "# add the addition epochs to the  training history\n",
        "train_hist.history['loss'].extend(train_hist_addn.history['loss'])   \n",
        "plot_loss(train_hist)"
      ],
      "execution_count": 0,
      "outputs": [
        {
          "output_type": "display_data",
          "data": {
            "image/png": "[encoded data removed]",
            "text/plain": [
              "<Figure size 432x288 with 1 Axes>"
            ]
          },
          "metadata": {
            "tags": []
          }
        }
      ]
    },
    {
      "cell_type": "code",
      "metadata": {
        "id": "lUntqHjoko-n",
        "colab_type": "code",
        "outputId": "90b62f44-3c43-419b-b603-b3f2b82b6b5e",
        "colab": {
          "base_uri": "https://localhost:8080/",
          "height": 487
        }
      },
      "source": [
        "# Visualize data and regression line for learned weights\n",
        "rain_predicted_scaled =  model.predict(rp_train_scaled)\n",
        "visualize_data(rp_scaler.inverse_transform(rp_train_scaled), \n",
        "               rain_scaler.inverse_transform(rain_train_scaled),\n",
        "               rp_scaler.inverse_transform(rp_train_scaled), \n",
        "               rain_scaler.inverse_transform(rain_predicted_scaled),\n",
        "               add_addn_reg_line=False)\n"
      ],
      "execution_count": 0,
      "outputs": [
        {
          "output_type": "display_data",
          "data": {
            "image/png": "[encoded data removed]",
            "text/plain": [
              "<Figure size 576x576 with 1 Axes>"
            ]
          },
          "metadata": {
            "tags": []
          }
        }
      ]
    },
    {
      "cell_type": "code",
      "metadata": {
        "id": "XjV3pUQ4bP2t",
        "colab_type": "code",
        "outputId": "33bc203f-0dcd-4d17-9480-1705147b8d0a",
        "colab": {
          "base_uri": "https://localhost:8080/",
          "height": 571
        }
      },
      "source": [
        "# Make a price prediction on data the model has never seen before, i.e. \n",
        "#    the Test data square footage\n",
        "rain_test_pred_scaled = model.predict(rp_test_scaled)\n",
        "\n",
        "# calculate the mean squared error for the prediction, lower is better\n",
        "from sklearn.metrics import mean_squared_error\n",
        "print(\"prediction mean squared error:\", \n",
        "          mean_squared_error(rain_test_scaled, rain_test_pred_scaled ))\n",
        "\n",
        "# Visualize data\n",
        "#    plus the test square footage and predicted price\n",
        "print('\\nGreen triangles are Test relative pressure with predicted rain')\n",
        "visualize_data(rp_scaler.inverse_transform(rp_test_scaled),\n",
        "               rain_scaler.inverse_transform(rain_test_scaled),\n",
        "               rp_scaler.inverse_transform(rp_test_scaled), \n",
        "               rain_scaler.inverse_transform(rain_test_pred_scaled),\n",
        "               add_addn_reg_line=False)\n",
        "print('\\nOur predicted values fit the data well!')"
      ],
      "execution_count": 0,
      "outputs": [
        {
          "output_type": "stream",
          "text": [
            "prediction mean squared error: 0.05194010995799432\n",
            "\n",
            "Green triangles are Test relative pressure with predicted rain\n"
          ],
          "name": "stdout"
        },
        {
          "output_type": "display_data",
          "data": {
            "image/png": "[encoded data removed]",
            "text/plain": [
              "<Figure size 576x576 with 1 Axes>"
            ]
          },
          "metadata": {
            "tags": []
          }
        },
        {
          "output_type": "stream",
          "text": [
            "\n",
            "Our predicted values fit the data well!\n"
          ],
          "name": "stdout"
        }
      ]
    }
  ]
}